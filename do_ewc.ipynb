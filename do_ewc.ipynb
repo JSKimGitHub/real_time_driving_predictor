{
  "nbformat": 4,
  "nbformat_minor": 0,
  "metadata": {
    "colab": {
      "provenance": [],
      "collapsed_sections": [
        "xG7G8vHiqN9s",
        "DLXe6SlLstCz"
      ],
      "toc_visible": true,
      "include_colab_link": true
    },
    "kernelspec": {
      "name": "python3",
      "display_name": "Python 3"
    },
    "language_info": {
      "name": "python"
    }
  },
  "cells": [
    {
      "cell_type": "markdown",
      "metadata": {
        "id": "view-in-github",
        "colab_type": "text"
      },
      "source": [
        "<a href=\"https://colab.research.google.com/github/JSKimGitHub/real_time_driving_predictor/blob/main/do_ewc.ipynb\" target=\"_parent\"><img src=\"https://colab.research.google.com/assets/colab-badge.svg\" alt=\"Open In Colab\"/></a>"
      ]
    },
    {
      "cell_type": "markdown",
      "source": [
        "# 초기화"
      ],
      "metadata": {
        "id": "Xu4bhqK22RpH"
      }
    },
    {
      "cell_type": "code",
      "source": [
        "!pip install opencv-python numpy matplotlib ultralytics"
      ],
      "metadata": {
        "id": "I97lYYjJj95w"
      },
      "execution_count": null,
      "outputs": []
    },
    {
      "cell_type": "code",
      "source": [
        "from google.colab import drive\n",
        "drive.mount('/content/drive')"
      ],
      "metadata": {
        "colab": {
          "base_uri": "https://localhost:8080/"
        },
        "id": "K2laZLaaRjuf",
        "outputId": "86718ab9-9b8a-4e51-e5f3-89ed49780c4c"
      },
      "execution_count": null,
      "outputs": [
        {
          "output_type": "stream",
          "name": "stdout",
          "text": [
            "Mounted at /content/drive\n"
          ]
        }
      ]
    },
    {
      "cell_type": "code",
      "source": [
        "import pandas as pd\n",
        "\n",
        "# CSV 파일 경로 지정 (구글 드라이브 마운트 경로 포함)\n",
        "file_path = '/content/drive/MyDrive/towtruck_8_results.csv'\n",
        "file_path2 = '/content/drive/MyDrive/Uturn_7_dlabeled.csv'\n",
        "file_path3 = '/content/drive/MyDrive/driving_11_dlabeled.csv'\n",
        "file_path4 = '/content/drive/MyDrive/driving_12_dlabeled.csv' # 예시: 파일명이 '파일명.csv'인 경우\n",
        "\n",
        "# CSV 파일을 DataFrame으로 읽어오기\n",
        "driving11 = pd.read_csv(file_path3)\n",
        "truck8 = pd.read_csv(file_path)\n",
        "uturn7 = pd.read_csv(file_path2)\n",
        "driving12 = pd.read_csv(file_path4)"
      ],
      "metadata": {
        "id": "jYhL85X6RkVz"
      },
      "execution_count": null,
      "outputs": []
    },
    {
      "cell_type": "code",
      "source": [
        "from ultralytics import YOLO\n",
        "import cv2\n",
        "import numpy as np\n",
        "import os\n",
        "\n",
        "# YOLOv8 모델 로드\n",
        "model = YOLO(\"yolov8n.pt\")  # 가장 가벼운 모델"
      ],
      "metadata": {
        "id": "pZMMZnV1kD-k",
        "colab": {
          "base_uri": "https://localhost:8080/"
        },
        "outputId": "62e15072-6e8f-4646-cc3c-86c124801be3"
      },
      "execution_count": null,
      "outputs": [
        {
          "output_type": "stream",
          "name": "stdout",
          "text": [
            "Creating new Ultralytics Settings v0.0.6 file ✅ \n",
            "View Ultralytics Settings with 'yolo settings' or at '/root/.config/Ultralytics/settings.json'\n",
            "Update Settings with 'yolo settings key=value', i.e. 'yolo settings runs_dir=path/to/dir'. For help see https://docs.ultralytics.com/quickstart/#ultralytics-settings.\n"
          ]
        },
        {
          "output_type": "stream",
          "name": "stderr",
          "text": [
            "Downloading https://github.com/ultralytics/assets/releases/download/v8.3.0/yolov8n.pt to 'yolov8n.pt': 100%|██████████| 6.25M/6.25M [00:00<00:00, 60.9MB/s]\n"
          ]
        }
      ]
    },
    {
      "cell_type": "code",
      "source": [
        "import torch\n",
        "import torch.nn as nn\n",
        "\n",
        "class FM_FTRL_Encoder(nn.Module):\n",
        "    def __init__(self, input_dim, embedding_dim=8, k=4):\n",
        "        super().__init__()\n",
        "        self.linear = nn.Linear(input_dim, embedding_dim)\n",
        "        self.V = nn.Parameter(torch.randn(input_dim, k) * 0.01)\n",
        "        self.embedding_dim = embedding_dim\n",
        "\n",
        "    def forward(self, x):\n",
        "        linear_part = self.linear(x)\n",
        "        fm_interactions = 0.5 * torch.sum(\n",
        "            (x @ self.V) ** 2 - (x ** 2) @ (self.V ** 2),\n",
        "            dim=1, keepdim=True\n",
        "        )\n",
        "        fm_interactions_expanded = fm_interactions.reshape(-1, 1).expand(-1, self.embedding_dim)\n",
        "        return linear_part + fm_interactions_expanded\n",
        "\n",
        "class FM_FTRL_WithClassifier(nn.Module):\n",
        "    def __init__(self, input_dim, embedding_dim=8, k=4):\n",
        "        super().__init__()\n",
        "        self.encoder = FM_FTRL_Encoder(input_dim, embedding_dim, k)\n",
        "        self.classifier = nn.Linear(embedding_dim, 1)\n",
        "\n",
        "    def forward(self, x):\n",
        "        embedding = self.encoder(x)\n",
        "        logits = self.classifier(embedding)\n",
        "        return torch.sigmoid(logits).squeeze(1), embedding\n",
        "\n",
        "class EWCWrapper:\n",
        "    def __init__(self, model, lambda_ewc=1000.0):\n",
        "        self.model = model\n",
        "        self.lambda_ewc = lambda_ewc\n",
        "        self.params = {n: p for n, p in self.model.named_parameters() if p.requires_grad}\n",
        "        self._means = {}\n",
        "        self._fisher = {}\n",
        "\n",
        "    def consolidate(self, dataloader, device):\n",
        "        self._means = {n: p.clone().detach() for n, p in self.params.items()}\n",
        "        fisher = {n: torch.zeros_like(p) for n, p in self.params.items()}\n",
        "\n",
        "        self.model.eval()\n",
        "        for x in dataloader:\n",
        "            x = x.to(device)\n",
        "            self.model.zero_grad()\n",
        "            out, _ = self.model(x)\n",
        "            loss = out.mean()\n",
        "            loss.backward()\n",
        "\n",
        "            for n, p in self.model.named_parameters():\n",
        "                if p.grad is not None:\n",
        "                    fisher[n] += p.grad.data.clone().pow(2)\n",
        "\n",
        "        for n in fisher:\n",
        "            fisher[n] = fisher[n] / len(dataloader)\n",
        "        self._fisher = fisher\n",
        "\n",
        "    def penalty(self):\n",
        "        loss = 0\n",
        "        for n, p in self.model.named_parameters():\n",
        "            if n in self._fisher:\n",
        "                loss += (self._fisher[n] * (p - self._means[n]) ** 2).sum()\n",
        "        return self.lambda_ewc * loss"
      ],
      "metadata": {
        "id": "dde5wbfpS2lj"
      },
      "execution_count": null,
      "outputs": []
    },
    {
      "cell_type": "code",
      "source": [
        "import torch.optim as optim"
      ],
      "metadata": {
        "id": "UgHlvFhrTN_b"
      },
      "execution_count": null,
      "outputs": []
    },
    {
      "cell_type": "code",
      "source": [
        "# ===== 데이터 전처리 함수 =====\n",
        "def preprocess_input(cls_id, conf, dist, area, cx, cy, num_classes=10):\n",
        "    x = np.zeros(num_classes + 5)\n",
        "    if 0 <= cls_id < num_classes:\n",
        "        x[cls_id] = 1.0\n",
        "    x[num_classes:] = [conf, dist / 100, area / 10000, cx / 1920, cy / 1080]\n",
        "    return torch.tensor(x, dtype=torch.float32).unsqueeze(0)\n",
        "\n",
        "def add_noise(x, level=0.1):\n",
        "    return x + level * torch.randn_like(x)"
      ],
      "metadata": {
        "id": "PXxipgLFTEFf"
      },
      "execution_count": null,
      "outputs": []
    },
    {
      "cell_type": "code",
      "source": [
        "# ===== 환경 설정 =====\n",
        "device = torch.device(\"cuda\" if torch.cuda.is_available() else \"cpu\")\n",
        "model = YOLO(\"yolov8n.pt\")  # YOLOv8\n",
        "input_dim = 10 + 5\n",
        "fm_model = FM_FTRL_WithClassifier(input_dim)\n",
        "optimizer = optim.Adam(fm_model.parameters(), lr=1e-3)\n",
        "ewc = EWCWrapper(fm_model)\n",
        "\n",
        "fm_model.to(device)\n",
        "fm_model.train()\n",
        "loss_fn = nn.MSELoss()\n",
        "\n",
        "loss_buffer = []\n",
        "action_buffer = []\n",
        "measuring_loss = False\n",
        "video_file_count = 0"
      ],
      "metadata": {
        "id": "8BYUIY-FT4nO"
      },
      "execution_count": null,
      "outputs": []
    },
    {
      "cell_type": "markdown",
      "source": [
        "# driving 11은 학습시킨 라벨로 돌림."
      ],
      "metadata": {
        "id": "pS9oKG89qCwn"
      }
    },
    {
      "cell_type": "code",
      "source": [
        "driving11=driving11['go_stop_decision']"
      ],
      "metadata": {
        "id": "wOTA_0YxjGqG"
      },
      "execution_count": null,
      "outputs": []
    },
    {
      "cell_type": "code",
      "source": [
        "from google.colab import files\n",
        "uploaded = files.upload()\n",
        "\n",
        "# 업로드된 파일명 추출\n",
        "video_path = next(iter(uploaded))"
      ],
      "metadata": {
        "id": "Tk8xJ1qkjufM"
      },
      "execution_count": null,
      "outputs": []
    },
    {
      "cell_type": "code",
      "source": [
        "# ===== 테스트용 비디오 불러오기 =====\n",
        "#video_path = \"/content/test_video.mp4\"  # Colab에 업로드 후 경로 수정\n",
        "cap = cv2.VideoCapture(video_path)\n",
        "\n",
        "frame_idx = 0\n",
        "step=0;\n",
        "measuring_loss = True\n",
        "while cap.isOpened():\n",
        "    ret, frame = cap.read()\n",
        "    if not ret:\n",
        "        break\n",
        "\n",
        "    frame_idx += 1\n",
        "\n",
        "    result = model(frame)[0]\n",
        "    h, w, _ = frame.shape\n",
        "    frame_actions = []\n",
        "\n",
        "\n",
        "    for box in result.boxes:\n",
        "        cls_id = int(box.cls[0])\n",
        "        conf = float(box.conf[0])\n",
        "        x1, y1, x2, y2 = map(int, box.xyxy[0])\n",
        "        area = (x2 - x1) * (y2 - y1)\n",
        "        cx, cy = (x1 + x2) // 2, (y1 + y2) // 2\n",
        "        est_dist = 700 * 1.7 / (y2 - y1 + 1e-6)\n",
        "\n",
        "        x = preprocess_input(cls_id, conf, est_dist, area, cx, cy).to(device)\n",
        "        x_noisy = add_noise(x)\n",
        "\n",
        "        y_pred, emb_orig = fm_model(x)\n",
        "        _, emb_noisy = fm_model(x_noisy)\n",
        "\n",
        "        ewc_loss = ewc.penalty()\n",
        "\n",
        "        label = torch.tensor([driving[frame_idx-1]], dtype=torch.float32).to(device)\n",
        "        supervised_loss = loss_fn(y_pred, label)\n",
        "        loss = supervised_loss + 0.1 * ewc_loss\n",
        "\n",
        "        if measuring_loss:\n",
        "          loss_buffer.append(loss.item())\n",
        "\n",
        "        optimizer.zero_grad()\n",
        "        loss.backward()\n",
        "        optimizer.step()\n",
        "\n",
        "        act = int(y_pred.item() >= 0.5)\n",
        "        frame_actions.append(act)\n",
        "\n",
        "    final_act = 1 if frame_actions and sum(frame_actions) / len(frame_actions) >= 0.5 else 0\n",
        "    if measuring_loss:\n",
        "        action_buffer.append(final_act)\n",
        "\n",
        "\n",
        "cap.release()\n",
        "\n",
        "print(\"EWC Action Buffer:\", action_buffer)\n",
        "print(\"Loss Buffer:\", loss_buffer)\n",
        "print(frame_idx)"
      ],
      "metadata": {
        "id": "Nrd2FkEtqNgI"
      },
      "execution_count": null,
      "outputs": []
    },
    {
      "cell_type": "code",
      "source": [
        "import numpy as np\n",
        "import matplotlib.pyplot as plt\n",
        "\n",
        "# 이동평균 함수\n",
        "def moving_average(data, window_size):\n",
        "    return np.convolve(data, np.ones(window_size)/window_size, mode='valid')\n",
        "\n",
        "# 원본 데이터\n",
        "plt.figure(figsize=(10, 5))\n",
        "plt.plot(loss_buffer, color='lightblue', alpha=0.5, label='Raw Loss')\n",
        "\n",
        "# 이동평균 데이터\n",
        "smoothed_loss = moving_average(loss_buffer, 10)\n",
        "plt.plot(range(10-1, len(loss_buffer)), smoothed_loss, color='red', label='Smoothed (window=10)')\n",
        "\n",
        "plt.title(\"EWC Loss over frames (Smoothed)\")\n",
        "plt.xlabel(\"Step\")\n",
        "plt.ylabel(\"Loss\")\n",
        "plt.grid(True)\n",
        "plt.legend()\n",
        "plt.show()"
      ],
      "metadata": {
        "colab": {
          "base_uri": "https://localhost:8080/",
          "height": 487
        },
        "id": "SCF9vZg3rqE9",
        "outputId": "adc0ad7f-cc85-402a-a956-5ff4342cd438"
      },
      "execution_count": null,
      "outputs": [
        {
          "output_type": "display_data",
          "data": {
            "text/plain": [
              "<Figure size 1000x500 with 1 Axes>"
            ],
            "image/png": "[encoded data removed]"
          },
          "metadata": {}
        }
      ]
    },
    {
      "cell_type": "code",
      "source": [
        "import matplotlib.pyplot as plt\n",
        "\n",
        "# Loss 변화 시각화\n",
        "plt.figure(figsize=(10, 5))\n",
        "plt.plot(action_buffer, marker='o', markersize=3, linewidth=1)\n",
        "plt.title(\"actions over frames\")\n",
        "plt.xlabel(\"Step\")\n",
        "plt.ylabel(\"actions\")\n",
        "plt.grid(True)\n",
        "plt.show()"
      ],
      "metadata": {
        "colab": {
          "base_uri": "https://localhost:8080/",
          "height": 487
        },
        "id": "qjkjL0VPruYM",
        "outputId": "a6478582-7801-4dab-c45b-4a4c64d832c1"
      },
      "execution_count": null,
      "outputs": [
        {
          "output_type": "display_data",
          "data": {
            "text/plain": [
              "<Figure size 1000x500 with 1 Axes>"
            ],
            "image/png": "[encoded data removed]"
          },
          "metadata": {}
        }
      ]
    },
    {
      "cell_type": "markdown",
      "source": [
        "# 이후는 라벨 없이 돌림."
      ],
      "metadata": {
        "id": "xG7G8vHiqN9s"
      }
    },
    {
      "cell_type": "code",
      "source": [
        "from google.colab import files\n",
        "uploaded = files.upload()\n",
        "\n",
        "# 업로드된 파일명 추출\n",
        "video_path = next(iter(uploaded))"
      ],
      "metadata": {
        "id": "L4Ajr7h2srgv"
      },
      "execution_count": null,
      "outputs": []
    },
    {
      "cell_type": "code",
      "source": [
        "# ===== 테스트용 비디오 불러오기 =====\n",
        "#video_path = \"/content/test_video.mp4\"  # Colab에 업로드 후 경로 수정\n",
        "cap = cv2.VideoCapture(video_path)\n",
        "\n",
        "frame_idx = 0\n",
        "step=0;\n",
        "measuring_loss = True\n",
        "while cap.isOpened():\n",
        "    ret, frame = cap.read()\n",
        "    if not ret:\n",
        "        break\n",
        "\n",
        "    frame_idx += 1\n",
        "    step += 1\n",
        "\n",
        "    result = model(frame)[0]\n",
        "    h, w, _ = frame.shape\n",
        "    frame_actions = []\n",
        "\n",
        "\n",
        "    for box in result.boxes:\n",
        "        cls_id = int(box.cls[0])\n",
        "        conf = float(box.conf[0])\n",
        "        if conf <= 0.6:\n",
        "              continue\n",
        "        else:\n",
        "          x1, y1, x2, y2 = map(int, box.xyxy[0])\n",
        "          area = (x2 - x1) * (y2 - y1)\n",
        "          cx, cy = (x1 + x2) // 2, (y1 + y2) // 2\n",
        "          est_dist = 700 * 1.7 / (y2 - y1 + 1e-6)\n",
        "\n",
        "          x = preprocess_input(cls_id, conf, est_dist, area, cx, cy).to(device)\n",
        "          x_noisy = add_noise(x)\n",
        "\n",
        "          y_pred, emb_orig = fm_model(x)\n",
        "          _, emb_noisy = fm_model(x_noisy)\n",
        "\n",
        "          ewc_loss = ewc.penalty()\n",
        "\n",
        "          loss = loss_fn(emb_noisy, emb_orig.detach())\n",
        "          loss = loss + 0.1 * ewc_loss\n",
        "          if measuring_loss:\n",
        "              loss_buffer.append(loss.item())\n",
        "\n",
        "          optimizer.zero_grad()\n",
        "          loss.backward()\n",
        "          optimizer.step()\n",
        "\n",
        "          act = int(y_pred.item() >= 0.5)\n",
        "          frame_actions.append(act)\n",
        "\n",
        "    final_act = 1 if frame_actions and sum(frame_actions) / len(frame_actions) >= 0.5 else 0\n",
        "    if measuring_loss:\n",
        "        action_buffer.append(final_act)\n",
        "\n",
        "cap.release()\n",
        "\n",
        "print(\"EWC Action Buffer:\", action_buffer)\n",
        "print(\"Loss Buffer:\", loss_buffer)\n"
      ],
      "metadata": {
        "id": "dcoRVJQCT8Gs"
      },
      "execution_count": null,
      "outputs": []
    },
    {
      "cell_type": "code",
      "source": [
        "import numpy as np\n",
        "import matplotlib.pyplot as plt\n",
        "\n",
        "# 이동평균 함수\n",
        "def moving_average(data, window_size):\n",
        "    return np.convolve(data, np.ones(window_size)/window_size, mode='valid')\n",
        "\n",
        "# 원본 데이터\n",
        "plt.figure(figsize=(10, 5))\n",
        "plt.plot(loss_buffer, color='lightblue', alpha=0.5, label='Raw Loss')\n",
        "\n",
        "# 이동평균 데이터\n",
        "smoothed_loss = moving_average(loss_buffer, 10)\n",
        "plt.plot(range(10-1, len(loss_buffer)), smoothed_loss, color='red', label='Smoothed (window=10)')\n",
        "\n",
        "plt.title(\"EWC Loss over frames (Smoothed)\")\n",
        "plt.xlabel(\"Step\")\n",
        "plt.ylabel(\"Loss\")\n",
        "plt.grid(True)\n",
        "plt.legend()\n",
        "plt.show()"
      ],
      "metadata": {
        "id": "f1rPkWE9UET7"
      },
      "execution_count": null,
      "outputs": []
    },
    {
      "cell_type": "code",
      "source": [
        "import matplotlib.pyplot as plt\n",
        "\n",
        "# Loss 변화 시각화\n",
        "plt.figure(figsize=(10, 5))\n",
        "plt.plot(action_buffer, marker='o', markersize=3, linewidth=1)\n",
        "plt.title(\"actions over frames\")\n",
        "plt.xlabel(\"Step\")\n",
        "plt.ylabel(\"actions\")\n",
        "plt.grid(True)\n",
        "plt.show()"
      ],
      "metadata": {
        "id": "944u_td2Urx8"
      },
      "execution_count": null,
      "outputs": []
    },
    {
      "cell_type": "markdown",
      "source": [
        "# 모델 평가하기"
      ],
      "metadata": {
        "id": "DLXe6SlLstCz"
      }
    },
    {
      "cell_type": "code",
      "source": [
        "final_tasks=[]"
      ],
      "metadata": {
        "id": "B0Av2yju1-B7"
      },
      "execution_count": null,
      "outputs": []
    },
    {
      "cell_type": "code",
      "source": [
        "final_labels=[]"
      ],
      "metadata": {
        "id": "MdyBMRbO4QxD"
      },
      "execution_count": null,
      "outputs": []
    },
    {
      "cell_type": "code",
      "source": [
        "import numpy as np\n",
        "\n",
        "def compute_cl_metrics(final_tasks, final_labels, baseline_acc=0.5):\n",
        "    \"\"\"\n",
        "    Continual Learning metrics: IM, FWT, BWT 계산\n",
        "    - IM (Initial Accuracy): 각 태스크 처음 배운 직후의 평균 정확도\n",
        "    - FWT (Forward Transfer): baseline 대비 이후 태스크 성능 향상\n",
        "    - BWT (Backward Transfer): 마지막 학습 후 이전 태스크 성능 변화\n",
        "    \"\"\"\n",
        "\n",
        "    num_tasks = len(final_tasks)\n",
        "    task_accuracies = []\n",
        "\n",
        "    # 태스크별 정확도 계산\n",
        "    for idx in range(num_tasks):\n",
        "        preds = np.array(final_tasks[idx]).flatten()\n",
        "        labels = np.array(final_labels[idx]).flatten()\n",
        "\n",
        "        if preds.size == 0 or labels.size == 0:\n",
        "            acc = 0.0\n",
        "        else:\n",
        "            acc = np.mean(preds == labels)\n",
        "\n",
        "        task_accuracies.append(acc)\n",
        "\n",
        "    task_accuracies = np.array(task_accuracies)\n",
        "    print(\"Task accuracies:\", task_accuracies)\n",
        "\n",
        "    # IM\n",
        "    IM = np.mean(task_accuracies) if num_tasks > 0 else 0.0\n",
        "\n",
        "    # FWT\n",
        "    if num_tasks > 1:\n",
        "        FWT = np.mean(task_accuracies[1:] - baseline_acc)\n",
        "    else:\n",
        "        FWT = 0.0\n",
        "\n",
        "    # BWT\n",
        "    if num_tasks > 1:\n",
        "        BWT = np.mean(task_accuracies[-1] - task_accuracies[:-1])\n",
        "    else:\n",
        "        BWT = 0.0\n",
        "\n",
        "    return IM, FWT, BWT\n"
      ],
      "metadata": {
        "id": "oxStCost9-B3"
      },
      "execution_count": null,
      "outputs": []
    },
    {
      "cell_type": "markdown",
      "source": [
        "## !! 여기서부터 다시 돌리기 !!"
      ],
      "metadata": {
        "id": "0lX8Y80N6Mi_"
      }
    },
    {
      "cell_type": "code",
      "source": [
        "fm_model.eval()\n",
        "loss_fn = nn.MSELoss()\n",
        "\n",
        "test_loss_buffer = []\n",
        "test_action_buffer = []\n",
        "measuring_loss = False\n",
        "test_video_file_count = 0"
      ],
      "metadata": {
        "id": "1DFPL9mAYiiD"
      },
      "execution_count": null,
      "outputs": []
    },
    {
      "cell_type": "code",
      "source": [
        "from google.colab import files\n",
        "uploaded = files.upload()\n",
        "\n",
        "# 업로드된 파일명 추출\n",
        "test_video_path = next(iter(uploaded))"
      ],
      "metadata": {
        "colab": {
          "base_uri": "https://localhost:8080/",
          "height": 77
        },
        "id": "9JnbEPbyYugZ",
        "outputId": "0afd1331-963d-4856-98d5-75b167cd0e1e"
      },
      "execution_count": null,
      "outputs": [
        {
          "output_type": "display_data",
          "data": {
            "text/plain": [
              "<IPython.core.display.HTML object>"
            ],
            "text/html": [
              "\n",
              "     <input type=\"file\" id=\"files-b0c38b8b-a67d-42ee-b510-732cfc35f077\" name=\"files[]\" multiple disabled\n",
              "        style=\"border:none\" />\n",
              "     <output id=\"result-b0c38b8b-a67d-42ee-b510-732cfc35f077\">\n",
              "      Upload widget is only available when the cell has been executed in the\n",
              "      current browser session. Please rerun this cell to enable.\n",
              "      </output>\n",
              "      <script>// Copyright 2017 Google LLC\n",
              "//\n",
              "// Licensed under the Apache License, Version 2.0 (the \"License\");\n",
              "// you may not use this file except in compliance with the License.\n",
              "// You may obtain a copy of the License at\n",
              "//\n",
              "//      http://www.apache.org/licenses/LICENSE-2.0\n",
              "//\n",
              "// Unless required by applicable law or agreed to in writing, software\n",
              "// distributed under the License is distributed on an \"AS IS\" BASIS,\n",
              "// WITHOUT WARRANTIES OR CONDITIONS OF ANY KIND, either express or implied.\n",
              "// See the License for the specific language governing permissions and\n",
              "// limitations under the License.\n",
              "\n",
              "/**\n",
              " * @fileoverview Helpers for google.colab Python module.\n",
              " */\n",
              "(function(scope) {\n",
              "function span(text, styleAttributes = {}) {\n",
              "  const element = document.createElement('span');\n",
              "  element.textContent = text;\n",
              "  for (const key of Object.keys(styleAttributes)) {\n",
              "    element.style[key] = styleAttributes[key];\n",
              "  }\n",
              "  return element;\n",
              "}\n",
              "\n",
              "// Max number of bytes which will be uploaded at a time.\n",
              "const MAX_PAYLOAD_SIZE = 100 * 1024;\n",
              "\n",
              "function _uploadFiles(inputId, outputId) {\n",
              "  const steps = uploadFilesStep(inputId, outputId);\n",
              "  const outputElement = document.getElementById(outputId);\n",
              "  // Cache steps on the outputElement to make it available for the next call\n",
              "  // to uploadFilesContinue from Python.\n",
              "  outputElement.steps = steps;\n",
              "\n",
              "  return _uploadFilesContinue(outputId);\n",
              "}\n",
              "\n",
              "// This is roughly an async generator (not supported in the browser yet),\n",
              "// where there are multiple asynchronous steps and the Python side is going\n",
              "// to poll for completion of each step.\n",
              "// This uses a Promise to block the python side on completion of each step,\n",
              "// then passes the result of the previous step as the input to the next step.\n",
              "function _uploadFilesContinue(outputId) {\n",
              "  const outputElement = document.getElementById(outputId);\n",
              "  const steps = outputElement.steps;\n",
              "\n",
              "  const next = steps.next(outputElement.lastPromiseValue);\n",
              "  return Promise.resolve(next.value.promise).then((value) => {\n",
              "    // Cache the last promise value to make it available to the next\n",
              "    // step of the generator.\n",
              "    outputElement.lastPromiseValue = value;\n",
              "    return next.value.response;\n",
              "  });\n",
              "}\n",
              "\n",
              "/**\n",
              " * Generator function which is called between each async step of the upload\n",
              " * process.\n",
              " * @param {string} inputId Element ID of the input file picker element.\n",
              " * @param {string} outputId Element ID of the output display.\n",
              " * @return {!Iterable<!Object>} Iterable of next steps.\n",
              " */\n",
              "function* uploadFilesStep(inputId, outputId) {\n",
              "  const inputElement = document.getElementById(inputId);\n",
              "  inputElement.disabled = false;\n",
              "\n",
              "  const outputElement = document.getElementById(outputId);\n",
              "  outputElement.innerHTML = '';\n",
              "\n",
              "  const pickedPromise = new Promise((resolve) => {\n",
              "    inputElement.addEventListener('change', (e) => {\n",
              "      resolve(e.target.files);\n",
              "    });\n",
              "  });\n",
              "\n",
              "  const cancel = document.createElement('button');\n",
              "  inputElement.parentElement.appendChild(cancel);\n",
              "  cancel.textContent = 'Cancel upload';\n",
              "  const cancelPromise = new Promise((resolve) => {\n",
              "    cancel.onclick = () => {\n",
              "      resolve(null);\n",
              "    };\n",
              "  });\n",
              "\n",
              "  // Wait for the user to pick the files.\n",
              "  const files = yield {\n",
              "    promise: Promise.race([pickedPromise, cancelPromise]),\n",
              "    response: {\n",
              "      action: 'starting',\n",
              "    }\n",
              "  };\n",
              "\n",
              "  cancel.remove();\n",
              "\n",
              "  // Disable the input element since further picks are not allowed.\n",
              "  inputElement.disabled = true;\n",
              "\n",
              "  if (!files) {\n",
              "    return {\n",
              "      response: {\n",
              "        action: 'complete',\n",
              "      }\n",
              "    };\n",
              "  }\n",
              "\n",
              "  for (const file of files) {\n",
              "    const li = document.createElement('li');\n",
              "    li.append(span(file.name, {fontWeight: 'bold'}));\n",
              "    li.append(span(\n",
              "        `(${file.type || 'n/a'}) - ${file.size} bytes, ` +\n",
              "        `last modified: ${\n",
              "            file.lastModifiedDate ? file.lastModifiedDate.toLocaleDateString() :\n",
              "                                    'n/a'} - `));\n",
              "    const percent = span('0% done');\n",
              "    li.appendChild(percent);\n",
              "\n",
              "    outputElement.appendChild(li);\n",
              "\n",
              "    const fileDataPromise = new Promise((resolve) => {\n",
              "      const reader = new FileReader();\n",
              "      reader.onload = (e) => {\n",
              "        resolve(e.target.result);\n",
              "      };\n",
              "      reader.readAsArrayBuffer(file);\n",
              "    });\n",
              "    // Wait for the data to be ready.\n",
              "    let fileData = yield {\n",
              "      promise: fileDataPromise,\n",
              "      response: {\n",
              "        action: 'continue',\n",
              "      }\n",
              "    };\n",
              "\n",
              "    // Use a chunked sending to avoid message size limits. See b/62115660.\n",
              "    let position = 0;\n",
              "    do {\n",
              "      const length = Math.min(fileData.byteLength - position, MAX_PAYLOAD_SIZE);\n",
              "      const chunk = new Uint8Array(fileData, position, length);\n",
              "      position += length;\n",
              "\n",
              "      const base64 = btoa(String.fromCharCode.apply(null, chunk));\n",
              "      yield {\n",
              "        response: {\n",
              "          action: 'append',\n",
              "          file: file.name,\n",
              "          data: base64,\n",
              "        },\n",
              "      };\n",
              "\n",
              "      let percentDone = fileData.byteLength === 0 ?\n",
              "          100 :\n",
              "          Math.round((position / fileData.byteLength) * 100);\n",
              "      percent.textContent = `${percentDone}% done`;\n",
              "\n",
              "    } while (position < fileData.byteLength);\n",
              "  }\n",
              "\n",
              "  // All done.\n",
              "  yield {\n",
              "    response: {\n",
              "      action: 'complete',\n",
              "    }\n",
              "  };\n",
              "}\n",
              "\n",
              "scope.google = scope.google || {};\n",
              "scope.google.colab = scope.google.colab || {};\n",
              "scope.google.colab._files = {\n",
              "  _uploadFiles,\n",
              "  _uploadFilesContinue,\n",
              "};\n",
              "})(self);\n",
              "</script> "
            ]
          },
          "metadata": {}
        },
        {
          "output_type": "stream",
          "name": "stdout",
          "text": [
            "Saving Uturn_7.mov to Uturn_7 (2).mov\n"
          ]
        }
      ]
    },
    {
      "cell_type": "code",
      "source": [
        "# ===== 테스트용 비디오 불러오기 =====\n",
        "#video_path = \"/content/test_video.mp4\"  # Colab에 업로드 후 경로 수정\n",
        "cap = cv2.VideoCapture(test_video_path)\n",
        "\n",
        "frame_idx = 0\n",
        "step=0;\n",
        "measuring_loss = True\n",
        "while cap.isOpened():\n",
        "    ret, frame = cap.read()\n",
        "    if not ret:\n",
        "        break\n",
        "\n",
        "    frame_idx += 1\n",
        "    step += 1\n",
        "\n",
        "    result = model(frame)[0]\n",
        "    h, w, _ = frame.shape\n",
        "    frame_actions = []\n",
        "\n",
        "\n",
        "    for box in result.boxes:\n",
        "        cls_id = int(box.cls[0])\n",
        "        conf = float(box.conf[0])\n",
        "        x1, y1, x2, y2 = map(int, box.xyxy[0])\n",
        "        area = (x2 - x1) * (y2 - y1)\n",
        "        cx, cy = (x1 + x2) // 2, (y1 + y2) // 2\n",
        "        est_dist = 700 * 1.7 / (y2 - y1 + 1e-6)\n",
        "\n",
        "        x = preprocess_input(cls_id, conf, est_dist, area, cx, cy).to(device)\n",
        "        x_noisy = add_noise(x)\n",
        "\n",
        "        y_pred, emb_orig = fm_model(x)\n",
        "        _, emb_noisy = fm_model(x_noisy)\n",
        "\n",
        "        ewc_loss = ewc.penalty()\n",
        "\n",
        "        loss = loss_fn(emb_noisy, emb_orig.detach())\n",
        "        loss = loss + 0.1 * ewc_loss\n",
        "        if measuring_loss:\n",
        "            test_loss_buffer.append(loss.item())\n",
        "\n",
        "        optimizer.zero_grad()\n",
        "        loss.backward()\n",
        "        optimizer.step()\n",
        "\n",
        "        act = int(y_pred.item() >= 0.5)\n",
        "        frame_actions.append(act)\n",
        "\n",
        "    final_act = 1 if frame_actions and sum(frame_actions) / len(frame_actions) >= 0.5 else 0\n",
        "    if measuring_loss:\n",
        "        test_action_buffer.append(final_act)\n",
        "\n",
        "cap.release()\n",
        "\n",
        "\n",
        "print(\"EWC Action Buffer:\", test_action_buffer)\n",
        "print(\"Loss Buffer:\", test_loss_buffer)\n"
      ],
      "metadata": {
        "id": "LtOasEfdYcZ0",
        "collapsed": true
      },
      "execution_count": null,
      "outputs": []
    },
    {
      "cell_type": "code",
      "source": [
        "test_frame_labels=uturn7['go_stop_decision'] # 여기에 driving12, truck8, uturn7을 값을 바꿔가며 넣기"
      ],
      "metadata": {
        "id": "3wLY8S3VZv46"
      },
      "execution_count": null,
      "outputs": []
    },
    {
      "cell_type": "code",
      "source": [
        "print(type(test_action_buffer))\n",
        "print(type(test_frame_labels))\n",
        "print(len(test_action_buffer))\n",
        "print(len(test_frame_labels))\n"
      ],
      "metadata": {
        "id": "I1Fqxwq6n31s"
      },
      "execution_count": null,
      "outputs": []
    },
    {
      "cell_type": "code",
      "source": [
        "final_tasks.append(test_action_buffer)\n",
        "final_labels.append(test_frame_labels)"
      ],
      "metadata": {
        "id": "1KmJCkA8-vI_"
      },
      "execution_count": null,
      "outputs": []
    },
    {
      "cell_type": "code",
      "source": [
        "IM, FWT, BWT = compute_cl_metrics(final_tasks, final_labels)\n",
        "\n",
        "print(f\"IM (Initial Accuracy): {IM:.3f}\")\n",
        "print(f\"FWT (Forward Transfer): {FWT:.3f}\")\n",
        "print(f\"BWT (Backward Transfer): {BWT:.3f}\")\n"
      ],
      "metadata": {
        "id": "10ZVZTae9-0T"
      },
      "execution_count": null,
      "outputs": []
    },
    {
      "cell_type": "code",
      "source": [],
      "metadata": {
        "id": "oNWFg3MRAz_R"
      },
      "execution_count": null,
      "outputs": []
    }
  ]
}